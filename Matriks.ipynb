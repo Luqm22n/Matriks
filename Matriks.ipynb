{
  "nbformat": 4,
  "nbformat_minor": 0,
  "metadata": {
    "colab": {
      "provenance": []
    },
    "kernelspec": {
      "name": "python3",
      "display_name": "Python 3"
    },
    "language_info": {
      "name": "python"
    }
  },
  "cells": [
    {
      "cell_type": "markdown",
      "source": [
        "# Metode Gauss Jordan"
      ],
      "metadata": {
        "id": "f7tdZX4dEG8e"
      }
    },
    {
      "cell_type": "code",
      "execution_count": null,
      "metadata": {
        "colab": {
          "base_uri": "https://localhost:8080/"
        },
        "id": "9xA4V-4eCfJ6",
        "outputId": "796d24e3-698e-46af-96e7-bbbb1b8be463"
      },
      "outputs": [
        {
          "output_type": "stream",
          "name": "stdout",
          "text": [
            "[[   8.    2.   -4.    6.   -1.  418.]\n",
            " [   3.   -1.    4.   -6.    7. -216.]\n",
            " [  -9.    1.   -1.   -1.    2. -178.]\n",
            " [   1.   -1.    1.   -1.    1.  -28.]\n",
            " [   3.    4.   -2.    4.    8.  218.]]\n",
            "x1 = 18.00\n",
            "x2 = -8.00\n",
            "x3 = -22.00\n",
            "x4 = 34.00\n",
            "x5 = 2.00\n"
          ]
        }
      ],
      "source": [
        "import numpy as np\n",
        "n = m = 5\n",
        "a = [[8,2,-4,6,-1],[3,-1,4,-6,7],[-9,1,-1,-1,2],[1,-1,1,-1,1],[3,4,-2,4,8]]\n",
        "b = [418,-216,-178,-28,218]\n",
        "c = np.zeros([m,n+1])\n",
        "\n",
        "\n",
        "for i in range(m):\n",
        "  for j in range(n):\n",
        "    c[i][j] = a[i][j]\n",
        "for i in range(m):\n",
        "  c[i][n] = b[i]\n",
        "print(c)\n",
        "for k in range(m):\n",
        "  p = c[k][k]\n",
        "  for j in range(k,n+1):\n",
        "    c[k][j] = c[k][j]/p\n",
        "  for i in range(k+1,m):\n",
        "    p = c[i][k]\n",
        "    for j in range(k,n+1):\n",
        "      c[i][j] = c[i][j] - c[k][j]*p\n",
        "\n",
        "for k in range(m-1,-1,-1):\n",
        "  for i in range(k-1,-1,-1):\n",
        "    p = c[i][k]\n",
        "    for j in range(k,n+1):\n",
        "      c[i][j] = c[i][j]-c[k][j]*p\n",
        "\n",
        "for i in range(0,m):\n",
        "  print(\"x{:d} = {:.2f}\".format(i+1,c[i][-1]))\n"
      ]
    },
    {
      "cell_type": "markdown",
      "source": [
        "# Numpy"
      ],
      "metadata": {
        "id": "jJxnCt0hJkQv"
      }
    },
    {
      "cell_type": "code",
      "source": [
        "# penyelesaian dengan numpy\n",
        "print(np.linalg.solve(a,b))"
      ],
      "metadata": {
        "colab": {
          "base_uri": "https://localhost:8080/"
        },
        "id": "jF_GSVLus_o7",
        "outputId": "1e3ee236-0a2e-4e74-f679-421a0cc7c8ab"
      },
      "execution_count": null,
      "outputs": [
        {
          "output_type": "stream",
          "name": "stdout",
          "text": [
            "[ 18.  -8. -22.  34.   2.]\n"
          ]
        }
      ]
    },
    {
      "cell_type": "markdown",
      "source": [
        "\n",
        "# Metode LU"
      ],
      "metadata": {
        "id": "vAgV3DG5EfgV"
      }
    },
    {
      "cell_type": "code",
      "source": [
        "def lu_manual(A):\n",
        "    A = A.astype(float)\n",
        "    n = A.shape[0]\n",
        "\n",
        "    U = A.copy()\n",
        "    L = np.eye(n, dtype=np.double)\n",
        "\n",
        "    for i in range(n):\n",
        "\n",
        "        factor = U[i+1:, i] / U[i, i]\n",
        "        L[i+1:, i] = factor\n",
        "        U[i+1:] -= factor[:, np.newaxis] * U[i]\n",
        "\n",
        "    return L, U\n",
        "\n",
        "def forward_substitution(L, b):\n",
        "\n",
        "    n = L.shape[0]\n",
        "\n",
        "    y = np.zeros_like(b, dtype=np.double);\n",
        "\n",
        "    y[0] = b[0] / L[0, 0]\n",
        "\n",
        "\n",
        "    for i in range(1, n):\n",
        "        y[i] = (b[i] - np.dot(L[i,:i], y[:i])) / L[i,i]\n",
        "\n",
        "    return y\n",
        "\n",
        "def back_substitution(U, y):\n",
        "\n",
        "    n = U.shape[0]\n",
        "    x = np.zeros_like(y, dtype=np.double);\n",
        "    x[-1] = y[-1] / U[-1, -1]\n",
        "    for i in range(n-2, -1, -1):\n",
        "        x[i] = (y[i] - np.dot(U[i,i:], x[i:])) / U[i,i]\n",
        "\n",
        "    return x"
      ],
      "metadata": {
        "id": "tqWaeF5eFOlW"
      },
      "execution_count": null,
      "outputs": []
    },
    {
      "cell_type": "code",
      "source": [
        "a = np.array([[8,2,-4,6,-1],[3,-1,4,-6,7],[-9,1,-1,-1,2],[1,-1,1,-1,1],[3,4,-2,4,8]])\n",
        "b = np.array([418,-216,-178,-28,218])\n",
        "## %inisialisasi matriks A dan B\n",
        "A = a.copy()\n",
        "B = b.copy()\n",
        "\n",
        "Lm,Um = lu_manual(A)\n",
        "print(\"L:\\n\",Lm)\n",
        "print(\"U:\\n\",Um)\n",
        "print(\"LU=A:\\n\",np.dot(Lm,Um))\n",
        "print(\"---\")\n",
        "ym = forward_substitution(Lm,B)\n",
        "xm = back_substitution(Um,ym)\n",
        "print(xm)"
      ],
      "metadata": {
        "colab": {
          "base_uri": "https://localhost:8080/"
        },
        "id": "5YcT-AacE05k",
        "outputId": "5c2e2bc5-de90-49ee-ea1e-5bcedf796962"
      },
      "execution_count": null,
      "outputs": [
        {
          "output_type": "stream",
          "name": "stdout",
          "text": [
            "L:\n",
            " [[ 1.          0.          0.          0.          0.        ]\n",
            " [ 0.375       1.          0.          0.          0.        ]\n",
            " [-1.125      -1.85714286  1.          0.          0.        ]\n",
            " [ 0.125       0.71428571 -0.51515152  1.          0.        ]\n",
            " [ 0.375      -1.85714286  2.06060606 -7.80769231  1.        ]]\n",
            "U:\n",
            " [[ 8.          2.         -4.          6.         -1.        ]\n",
            " [ 0.         -1.75        5.5        -8.25        7.375     ]\n",
            " [ 0.          0.          4.71428571 -9.57142857 14.57142857]\n",
            " [ 0.          0.          0.         -0.78787879  3.36363636]\n",
            " [ 0.          0.          0.          0.         18.30769231]]\n",
            "LU=A:\n",
            " [[ 8.  2. -4.  6. -1.]\n",
            " [ 3. -1.  4. -6.  7.]\n",
            " [-9.  1. -1. -1.  2.]\n",
            " [ 1. -1.  1. -1.  1.]\n",
            " [ 3.  4. -2.  4.  8.]]\n",
            "---\n",
            "[ 18.  -8. -22.  34.   2.]\n"
          ]
        }
      ]
    },
    {
      "cell_type": "markdown",
      "source": [
        "# Scipy"
      ],
      "metadata": {
        "id": "c4-PXXZvI5Yv"
      }
    },
    {
      "cell_type": "code",
      "source": [
        "# LU Decomposition dengan scipy\n",
        "A = np.array([[8,2,-4,6,-1],[3,-1,4,-6,7],[-9,1,-1,-1,2],[1,-1,1,-1,1],[3,4,-2,4,8]])\n",
        "B = np.array([418,-216,-178,-28,218])\n",
        "\n",
        "from scipy.linalg import lu\n",
        "P, L, U, = lu(A)\n",
        "print(\"P:\\n\",P)\n",
        "print(\"L:\\n\",L)\n",
        "print(\"U:\\n\",U)\n",
        "print(\"LU:\\n\",np.dot(L,U))\n",
        "print(\"-------\")\n",
        "\n",
        "y = forward_substitution(L,np.dot(P,B))\n",
        "x = back_substitution(U,y)\n",
        "print(x)"
      ],
      "metadata": {
        "colab": {
          "base_uri": "https://localhost:8080/"
        },
        "id": "WB9CTMfuGi2K",
        "outputId": "12024c6e-c6e8-407d-e5bb-2ab88d004d51"
      },
      "execution_count": null,
      "outputs": [
        {
          "output_type": "stream",
          "name": "stdout",
          "text": [
            "P:\n",
            " [[0. 0. 1. 0. 0.]\n",
            " [0. 0. 0. 1. 0.]\n",
            " [1. 0. 0. 0. 0.]\n",
            " [0. 0. 0. 0. 1.]\n",
            " [0. 1. 0. 0. 0.]]\n",
            "L:\n",
            " [[ 1.          0.          0.          0.          0.        ]\n",
            " [-0.33333333  1.          0.          0.          0.        ]\n",
            " [-0.88888889  0.66666667  1.          0.          0.        ]\n",
            " [-0.33333333 -0.15384615 -0.99230769  1.          0.        ]\n",
            " [-0.11111111 -0.20512821 -0.12307692  0.00985222  1.        ]]\n",
            "U:\n",
            " [[-9.          1.         -1.         -1.          2.        ]\n",
            " [ 0.          4.33333333 -2.33333333  3.66666667  8.66666667]\n",
            " [ 0.          0.         -3.33333333  2.66666667 -5.        ]\n",
            " [ 0.          0.          0.         -3.12307692  4.03846154]\n",
            " [ 0.          0.          0.          0.          2.34482759]]\n",
            "LU:\n",
            " [[-9.  1. -1. -1.  2.]\n",
            " [ 3.  4. -2.  4.  8.]\n",
            " [ 8.  2. -4.  6. -1.]\n",
            " [ 3. -1.  4. -6.  7.]\n",
            " [ 1. -1.  1. -1.  1.]]\n",
            "-------\n",
            "[  81.30252101  302.29411765 -169.93697479 -268.36554622  -93.43697479]\n"
          ]
        }
      ]
    },
    {
      "cell_type": "markdown",
      "source": [
        "# Aplikasi pada HK Kirchoff"
      ],
      "metadata": {
        "id": "-1A2eoVbjurr"
      }
    },
    {
      "cell_type": "code",
      "source": [
        "import numpy as np\n",
        "m = 3 # Jumlah baris matriks\n",
        "n = 3 # Jumlah kolom matriks\n",
        "a = [[30,-12,0],[30,0,9],[1,1,-1]] # Matriks Hk Kirchoof\n",
        "b = [36,12,0]\n",
        "c = np.zeros([m,n+1])\n",
        "for i in range(m):\n",
        "    for j in range(n):\n",
        "        c[i][j] = a[i][j]\n",
        "for i in range(m):\n",
        "    c[i][n] = b[i]\n",
        "\n",
        "print(\"Persamaan Matrik\")\n",
        "print(c)\n",
        "print()\n",
        "# -- Proses Eliminasi --\n",
        "for k in range(m):\n",
        "    p = c[k][k]\n",
        "    for j in range(k,n+1):\n",
        "        c[k][j] = c[k][j]/p\n",
        "\n",
        "    for i in range(k+1,m):\n",
        "        p = c[i][k]\n",
        "        for j in range(k,n+1):\n",
        "            c[i][j] = c[i][j] - c[k][j]*p\n",
        "for k in range(m-1,-1,-1):\n",
        "    for i in range(k-1,-1,-1):\n",
        "        p = c[i][k]\n",
        "        for j in range(k,n+1):\n",
        "            c[i][j] = c[i][j] - c[k][j]*p\n",
        "print(\"Hasil dari Gauss Jordan\")\n",
        "print(c)\n",
        "print()\n",
        "# Menampilkan nilai I1,I2 dan I3\n",
        "print(\"Hasil dari I1,I2, dan I3\")\n",
        "for i in range(0,m):\n",
        "    print(\"I{:d} = {:.3f}\".format(i+1,c[i][m]))"
      ],
      "metadata": {
        "colab": {
          "base_uri": "https://localhost:8080/"
        },
        "id": "bbT7gKk9j1AO",
        "outputId": "652d228d-ad43-4702-afc4-5ae0505b1f58"
      },
      "execution_count": null,
      "outputs": [
        {
          "output_type": "stream",
          "name": "stdout",
          "text": [
            "Persamaan Matrik\n",
            "[[ 30. -12.   0.  36.]\n",
            " [ 30.   0.   9.  12.]\n",
            " [  1.   1.  -1.   0.]]\n",
            "\n",
            "Hasil dari Gauss Jordan\n",
            "[[ 1.          0.          0.          0.63414634]\n",
            " [ 0.          1.          0.         -1.41463415]\n",
            " [ 0.          0.          1.         -0.7804878 ]]\n",
            "\n",
            "Hasil dari I1,I2, dan I3\n",
            "I1 = 0.634\n",
            "I2 = -1.415\n",
            "I3 = -0.780\n"
          ]
        }
      ]
    }
  ]
}